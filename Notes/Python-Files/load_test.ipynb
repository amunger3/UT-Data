{
 "cells": [
  {
   "cell_type": "code",
   "execution_count": 2,
   "id": "def163a4",
   "metadata": {},
   "outputs": [
    {
     "name": "stdout",
     "output_type": "stream",
     "text": [
      "Path to dataset:  C:\\Users\\munge\\.cache\\kagglehub\\datasets\\natezhang123\\social-anxiety-dataset\\versions\\2\n"
     ]
    }
   ],
   "source": [
    "import kagglehub\n",
    "# download latest version\n",
    "path = kagglehub.dataset_download(\"natezhang123/social-anxiety-dataset\")\n",
    "print(\"Path to dataset: \", path)"
   ]
  },
  {
   "cell_type": "code",
   "execution_count": null,
   "id": "835c7cc1",
   "metadata": {},
   "outputs": [
    {
     "name": "stdout",
     "output_type": "stream",
     "text": [
      "Original DataFrame:\n",
      "      Name  Age           City  Salary\n",
      "0    Alice   25       New York   60000\n",
      "1      Bob   30  San Francisco   80000\n",
      "2  Charlie   35        Chicago   70000\n",
      "3    David   40         Boston   90000\n",
      "4     Emma   45        Seattle   75000\n",
      "\n",
      "Basic Statistics:\n",
      "             Age        Salary\n",
      "count   5.000000      5.000000\n",
      "mean   35.000000  75000.000000\n",
      "std     7.905694  11180.339887\n",
      "min    25.000000  60000.000000\n",
      "25%    30.000000  70000.000000\n",
      "50%    35.000000  75000.000000\n",
      "75%    40.000000  80000.000000\n",
      "max    45.000000  90000.000000\n",
      "\n",
      "People earning more than 75000:\n",
      "    Name  Age           City  Salary\n",
      "1    Bob   30  San Francisco   80000\n",
      "3  David   40         Boston   90000\n",
      "\n",
      "DataFrame with new column:\n",
      "      Name  Age           City  Salary  Experience\n",
      "0    Alice   25       New York   60000           3\n",
      "1      Bob   30  San Francisco   80000           7\n",
      "2  Charlie   35        Chicago   70000           5\n",
      "3    David   40         Boston   90000          10\n",
      "4     Emma   45        Seattle   75000           8\n",
      "\n",
      "Average salary by city:\n",
      "City\n",
      "Boston           90000.0\n",
      "Chicago          70000.0\n",
      "New York         60000.0\n",
      "San Francisco    80000.0\n",
      "Seattle          75000.0\n",
      "Name: Salary, dtype: float64\n",
      "\n",
      "DataFrame sorted by Age (descending):\n",
      "      Name  Age           City  Salary  Experience\n",
      "4     Emma   45        Seattle   75000           8\n",
      "3    David   40         Boston   90000          10\n",
      "2  Charlie   35        Chicago   70000           5\n",
      "1      Bob   30  San Francisco   80000           7\n",
      "0    Alice   25       New York   60000           3\n",
      "\n",
      "DataFrame saved to 'employee_data.csv'\n"
     ]
    }
   ],
   "source": [
    "import pandas as pd\n",
    "import numpy as np\n",
    "\n",
    "# Create a simple DataFrame\n",
    "def create_sample_dataframe():\n",
    "    # Sample data\n",
    "    data = {\n",
    "        'Name': ['Alice', 'Bob', 'Charlie', 'David', 'Emma'],\n",
    "        'Age': [25, 30, 35, 40, 45],\n",
    "        'City': ['New York', 'San Francisco', 'Chicago', 'Boston', 'Seattle'],\n",
    "        'Salary': [60000, 80000, 70000, 90000, 75000]\n",
    "    }\n",
    "    \n",
    "    # Create DataFrame\n",
    "    df = pd.DataFrame(data)\n",
    "    return df\n",
    "\n",
    "def main():\n",
    "    # Create the DataFrame\n",
    "    df = create_sample_dataframe()\n",
    "    \n",
    "    # Basic operations\n",
    "    print(\"Original DataFrame:\")\n",
    "    print(df)\n",
    "    \n",
    "    # Basic statistics\n",
    "    print(\"\\nBasic Statistics:\")\n",
    "    print(df.describe())\n",
    "        # Filtering data\n",
    "    print(\"\\nPeople earning more than 75000:\")\n",
    "    print(df[df['Salary'] > 75000])\n",
    "    \n",
    "    # Adding a new column\n",
    "    df['Experience'] = [3, 7, 5, 10, 8]\n",
    "    print(\"\\nDataFrame with new column:\")\n",
    "    print(df)\n",
    "    \n",
    "    # Grouping and aggregation\n",
    "    print(\"\\nAverage salary by city:\")\n",
    "    print(df.groupby('City')['Salary'].mean())\n",
    "    \n",
    "    # Sorting\n",
    "    print(\"\\nDataFrame sorted by Age (descending):\")\n",
    "    print(df.sort_values(by='Age', ascending=False))\n",
    "    \n",
    "    # Saving to CSV\n",
    "    df.to_csv('employee_data.csv', index=False)\n",
    "    print(\"\\nDataFrame saved to 'employee_data.csv'\")\n",
    "    \n",
    "if __name__ == \"__main__\":\n",
    "    main()"
   ]
  }
 ],
 "metadata": {
  "kernelspec": {
   "display_name": "Python 3",
   "language": "python",
   "name": "python3"
  },
  "language_info": {
   "codemirror_mode": {
    "name": "ipython",
    "version": 3
   },
   "file_extension": ".py",
   "mimetype": "text/x-python",
   "name": "python",
   "nbconvert_exporter": "python",
   "pygments_lexer": "ipython3",
   "version": "3.11.0"
  }
 },
 "nbformat": 4,
 "nbformat_minor": 5
}
