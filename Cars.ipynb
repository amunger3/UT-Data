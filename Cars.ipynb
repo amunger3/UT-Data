{
 "cells": [
  {
   "cell_type": "code",
   "execution_count": 2,
   "id": "581c6eff-9871-483d-9d39-a9befa0befe2",
   "metadata": {},
   "outputs": [],
   "source": [
    "import matplotlib.pyplot as plt\n",
    "import numpy as np\n",
    "import pandas as pd"
   ]
  },
  {
   "cell_type": "code",
   "execution_count": 4,
   "id": "16430ef4-adfc-4674-b4a6-f608f776eec2",
   "metadata": {},
   "outputs": [
    {
     "name": "stdout",
     "output_type": "stream",
     "text": [
      "          Game Name      Developer              Genre  Rating\n",
      "0  Candy Crush Saga           King             Puzzle     4.6\n",
      "1    Clash of Clans      Supercell           Strategy     4.5\n",
      "2          Among Us     InnerSloth              Party     4.4\n",
      "3        Pokémon GO        Niantic  Augmented Reality     4.3\n",
      "4       PUBG Mobile  Tencent Games      Battle Royale     4.2\n"
     ]
    }
   ],
   "source": [
    "cars_df = pd.read_csv(\"./Notes/Instructor-Shares/CSV/ratings.csv\")\n",
    "print(cars_df.head())"
   ]
  },
  {
   "cell_type": "code",
   "execution_count": null,
   "id": "0f340128-0fda-4559-8c22-384f8799aed6",
   "metadata": {},
   "outputs": [],
   "source": []
  }
 ],
 "metadata": {
  "kernelspec": {
   "display_name": "Python 3 (ipykernel)",
   "language": "python",
   "name": "python3"
  },
  "language_info": {
   "codemirror_mode": {
    "name": "ipython",
    "version": 3
   },
   "file_extension": ".py",
   "mimetype": "text/x-python",
   "name": "python",
   "nbconvert_exporter": "python",
   "pygments_lexer": "ipython3",
   "version": "3.11.0"
  }
 },
 "nbformat": 4,
 "nbformat_minor": 5
}
